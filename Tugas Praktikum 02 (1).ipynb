{
 "cells": [
  {
   "cell_type": "code",
   "execution_count": 7,
   "id": "40fad17e-371f-42bd-9a28-5a572ff7bec8",
   "metadata": {},
   "outputs": [
    {
     "data": {
      "text/html": [
       "<div>\n",
       "<style scoped>\n",
       "    .dataframe tbody tr th:only-of-type {\n",
       "        vertical-align: middle;\n",
       "    }\n",
       "\n",
       "    .dataframe tbody tr th {\n",
       "        vertical-align: top;\n",
       "    }\n",
       "\n",
       "    .dataframe thead th {\n",
       "        text-align: right;\n",
       "    }\n",
       "</style>\n",
       "<table border=\"1\" class=\"dataframe\">\n",
       "  <thead>\n",
       "    <tr style=\"text-align: right;\">\n",
       "      <th></th>\n",
       "      <th>model</th>\n",
       "      <th>tahun</th>\n",
       "      <th>harga</th>\n",
       "      <th>transmisi</th>\n",
       "      <th>odometer</th>\n",
       "      <th>jenis</th>\n",
       "      <th>pajak</th>\n",
       "      <th>konsumsiBBM</th>\n",
       "      <th>mesin</th>\n",
       "    </tr>\n",
       "  </thead>\n",
       "  <tbody>\n",
       "    <tr>\n",
       "      <th>0</th>\n",
       "      <td>Supra X 125</td>\n",
       "      <td>2017</td>\n",
       "      <td>7999</td>\n",
       "      <td>Manual</td>\n",
       "      <td>17307</td>\n",
       "      <td>Bebek</td>\n",
       "      <td>145.0</td>\n",
       "      <td>58.9</td>\n",
       "      <td>125.0</td>\n",
       "    </tr>\n",
       "    <tr>\n",
       "      <th>1</th>\n",
       "      <td>Vario 125</td>\n",
       "      <td>2016</td>\n",
       "      <td>14499</td>\n",
       "      <td>Automatic</td>\n",
       "      <td>25233</td>\n",
       "      <td>Skuter</td>\n",
       "      <td>235.0</td>\n",
       "      <td>43.5</td>\n",
       "      <td>125.0</td>\n",
       "    </tr>\n",
       "    <tr>\n",
       "      <th>2</th>\n",
       "      <td>Vario 125</td>\n",
       "      <td>2016</td>\n",
       "      <td>11399</td>\n",
       "      <td>Automatic</td>\n",
       "      <td>37877</td>\n",
       "      <td>Skuter</td>\n",
       "      <td>30.0</td>\n",
       "      <td>61.7</td>\n",
       "      <td>125.0</td>\n",
       "    </tr>\n",
       "    <tr>\n",
       "      <th>3</th>\n",
       "      <td>Revo</td>\n",
       "      <td>2016</td>\n",
       "      <td>6499</td>\n",
       "      <td>Manual</td>\n",
       "      <td>23789</td>\n",
       "      <td>Bebek</td>\n",
       "      <td>20.0</td>\n",
       "      <td>60.1</td>\n",
       "      <td>110.0</td>\n",
       "    </tr>\n",
       "    <tr>\n",
       "      <th>4</th>\n",
       "      <td>PCX</td>\n",
       "      <td>2015</td>\n",
       "      <td>10199</td>\n",
       "      <td>Automatic</td>\n",
       "      <td>33177</td>\n",
       "      <td>Skuter</td>\n",
       "      <td>160.0</td>\n",
       "      <td>51.4</td>\n",
       "      <td>150.0</td>\n",
       "    </tr>\n",
       "    <tr>\n",
       "      <th>...</th>\n",
       "      <td>...</td>\n",
       "      <td>...</td>\n",
       "      <td>...</td>\n",
       "      <td>...</td>\n",
       "      <td>...</td>\n",
       "      <td>...</td>\n",
       "      <td>...</td>\n",
       "      <td>...</td>\n",
       "      <td>...</td>\n",
       "    </tr>\n",
       "    <tr>\n",
       "      <th>194</th>\n",
       "      <td>Vario 125</td>\n",
       "      <td>2019</td>\n",
       "      <td>15998</td>\n",
       "      <td>Automatic</td>\n",
       "      <td>17841</td>\n",
       "      <td>Skuter</td>\n",
       "      <td>150.0</td>\n",
       "      <td>34.9</td>\n",
       "      <td>125.0</td>\n",
       "    </tr>\n",
       "    <tr>\n",
       "      <th>195</th>\n",
       "      <td>Genio</td>\n",
       "      <td>2015</td>\n",
       "      <td>8798</td>\n",
       "      <td>Automatic</td>\n",
       "      <td>21701</td>\n",
       "      <td>Skuter</td>\n",
       "      <td>150.0</td>\n",
       "      <td>48.7</td>\n",
       "      <td>110.0</td>\n",
       "    </tr>\n",
       "    <tr>\n",
       "      <th>196</th>\n",
       "      <td>Vario 125</td>\n",
       "      <td>2019</td>\n",
       "      <td>15498</td>\n",
       "      <td>Automatic</td>\n",
       "      <td>15751</td>\n",
       "      <td>Sport</td>\n",
       "      <td>150.0</td>\n",
       "      <td>34.9</td>\n",
       "      <td>125.0</td>\n",
       "    </tr>\n",
       "    <tr>\n",
       "      <th>197</th>\n",
       "      <td>Supra X 125</td>\n",
       "      <td>2016</td>\n",
       "      <td>8298</td>\n",
       "      <td>Manual</td>\n",
       "      <td>17499</td>\n",
       "      <td>Bebek</td>\n",
       "      <td>30.0</td>\n",
       "      <td>55.4</td>\n",
       "      <td>125.0</td>\n",
       "    </tr>\n",
       "    <tr>\n",
       "      <th>198</th>\n",
       "      <td>Verza</td>\n",
       "      <td>2019</td>\n",
       "      <td>14998</td>\n",
       "      <td>Kopling</td>\n",
       "      <td>6717</td>\n",
       "      <td>Sport</td>\n",
       "      <td>150.0</td>\n",
       "      <td>44.1</td>\n",
       "      <td>150.0</td>\n",
       "    </tr>\n",
       "  </tbody>\n",
       "</table>\n",
       "<p>199 rows × 9 columns</p>\n",
       "</div>"
      ],
      "text/plain": [
       "            model  tahun  harga  transmisi  odometer   jenis  pajak  \\\n",
       "0     Supra X 125   2017   7999     Manual     17307   Bebek  145.0   \n",
       "1       Vario 125   2016  14499  Automatic     25233  Skuter  235.0   \n",
       "2       Vario 125   2016  11399  Automatic     37877  Skuter   30.0   \n",
       "3            Revo   2016   6499     Manual     23789   Bebek   20.0   \n",
       "4             PCX   2015  10199  Automatic     33177  Skuter  160.0   \n",
       "..            ...    ...    ...        ...       ...     ...    ...   \n",
       "194     Vario 125   2019  15998  Automatic     17841  Skuter  150.0   \n",
       "195         Genio   2015   8798  Automatic     21701  Skuter  150.0   \n",
       "196     Vario 125   2019  15498  Automatic     15751   Sport  150.0   \n",
       "197   Supra X 125   2016   8298     Manual     17499   Bebek   30.0   \n",
       "198         Verza   2019  14998    Kopling      6717   Sport  150.0   \n",
       "\n",
       "     konsumsiBBM  mesin  \n",
       "0           58.9  125.0  \n",
       "1           43.5  125.0  \n",
       "2           61.7  125.0  \n",
       "3           60.1  110.0  \n",
       "4           51.4  150.0  \n",
       "..           ...    ...  \n",
       "194         34.9  125.0  \n",
       "195         48.7  110.0  \n",
       "196         34.9  125.0  \n",
       "197         55.4  125.0  \n",
       "198         44.1  150.0  \n",
       "\n",
       "[199 rows x 9 columns]"
      ]
     },
     "execution_count": 7,
     "metadata": {},
     "output_type": "execute_result"
    }
   ],
   "source": [
    "import pandas as pd\n",
    "import numpy as np\n",
    "# Importing and Exporting Data\n",
    "df = pd.read_csv('motor_second.csv')\n",
    "df"
   ]
  },
  {
   "cell_type": "code",
   "execution_count": 10,
   "id": "6ae45916-55e1-478a-85ce-7cde0508b540",
   "metadata": {},
   "outputs": [
    {
     "name": "stdout",
     "output_type": "stream",
     "text": [
      "Rata-rata harga: 11385.015075376885\n"
     ]
    }
   ],
   "source": [
    "mean_harga = df['harga'].mean()\n",
    "print(f\"Rata-rata harga: {mean_harga}\")"
   ]
  },
  {
   "cell_type": "code",
   "execution_count": 11,
   "id": "6fbb9ca0-5c77-4475-86fd-b4147d1ff5f0",
   "metadata": {},
   "outputs": [
    {
     "name": "stdout",
     "output_type": "stream",
     "text": [
      "Median odometer: 21119.0\n"
     ]
    }
   ],
   "source": [
    "median_odometer = df['odometer'].median()\n",
    "print(f\"Median odometer: {median_odometer}\")"
   ]
  },
  {
   "cell_type": "code",
   "execution_count": 12,
   "id": "1a9f3fe8-d7be-43bc-8a2c-44d8b8a2ffbe",
   "metadata": {},
   "outputs": [
    {
     "name": "stdout",
     "output_type": "stream",
     "text": [
      "Median konsumsi BBM: 56.5\n"
     ]
    }
   ],
   "source": [
    "median_konsumsiBBM = df['konsumsiBBM'].median()\n",
    "print(f\"Median konsumsi BBM: {median_konsumsiBBM}\")\n"
   ]
  },
  {
   "cell_type": "code",
   "execution_count": 16,
   "id": "2c68ae27-8811-4edc-bd09-d4b1bb41ced8",
   "metadata": {},
   "outputs": [
    {
     "name": "stdout",
     "output_type": "stream",
     "text": [
      "Q1 (harga):  7996.5\n",
      "Q3 (harga):  14498.5\n",
      "IQR (harga):  6502.0\n"
     ]
    }
   ],
   "source": [
    "# Hitung kuartil pertama (Q1) untuk kolom 'harga'\n",
    "q1_harga = df['harga'].quantile(0.25)\n",
    "print(\"Q1 (harga): \", q1_harga)\n",
    "\n",
    "# Hitung kuartil ketiga (Q3) untuk kolom 'harga'\n",
    "q3_harga = df['harga'].quantile(0.75)\n",
    "print(\"Q3 (harga): \", q3_harga)\n",
    "\n",
    "# Hitung rentang interkuartil (IQR)\n",
    "iqr_harga = q3_harga - q1_harga\n",
    "print(\"IQR (harga): \", iqr_harga)\n"
   ]
  },
  {
   "cell_type": "code",
   "execution_count": 17,
   "id": "b16cff3b-a0de-408f-b931-06434e56ef29",
   "metadata": {},
   "outputs": [
    {
     "data": {
      "text/plain": [
       "<Axes: >"
      ]
     },
     "execution_count": 17,
     "metadata": {},
     "output_type": "execute_result"
    },
    {
     "data": {
      "image/png": "[encoded data removed]",
      "text/plain": [
       "<Figure size 640x480 with 1 Axes>"
      ]
     },
     "metadata": {},
     "output_type": "display_data"
    }
   ],
   "source": [
    "df.boxplot(column=['harga','odometer'])"
   ]
  },
  {
   "cell_type": "code",
   "execution_count": 18,
   "id": "df28fef6-bdde-4e0a-b699-37b2eea1d9de",
   "metadata": {},
   "outputs": [
    {
     "data": {
      "text/html": [
       "<div>\n",
       "<style scoped>\n",
       "    .dataframe tbody tr th:only-of-type {\n",
       "        vertical-align: middle;\n",
       "    }\n",
       "\n",
       "    .dataframe tbody tr th {\n",
       "        vertical-align: top;\n",
       "    }\n",
       "\n",
       "    .dataframe thead th {\n",
       "        text-align: right;\n",
       "    }\n",
       "</style>\n",
       "<table border=\"1\" class=\"dataframe\">\n",
       "  <thead>\n",
       "    <tr style=\"text-align: right;\">\n",
       "      <th></th>\n",
       "      <th>model</th>\n",
       "      <th>tahun</th>\n",
       "      <th>harga</th>\n",
       "      <th>transmisi</th>\n",
       "      <th>odometer</th>\n",
       "      <th>jenis</th>\n",
       "      <th>pajak</th>\n",
       "      <th>konsumsiBBM</th>\n",
       "      <th>mesin</th>\n",
       "    </tr>\n",
       "  </thead>\n",
       "  <tbody>\n",
       "    <tr>\n",
       "      <th>0</th>\n",
       "      <td>Supra X 125</td>\n",
       "      <td>2017.0</td>\n",
       "      <td>7999</td>\n",
       "      <td>Manual</td>\n",
       "      <td>17307</td>\n",
       "      <td>Bebek</td>\n",
       "      <td>145.0</td>\n",
       "      <td>58.9</td>\n",
       "      <td>125.0</td>\n",
       "    </tr>\n",
       "    <tr>\n",
       "      <th>1</th>\n",
       "      <td>Vario 125</td>\n",
       "      <td>2016.0</td>\n",
       "      <td>14499</td>\n",
       "      <td>Automatic</td>\n",
       "      <td>25233</td>\n",
       "      <td>Skuter</td>\n",
       "      <td>235.0</td>\n",
       "      <td>43.5</td>\n",
       "      <td>125.0</td>\n",
       "    </tr>\n",
       "    <tr>\n",
       "      <th>2</th>\n",
       "      <td>Vario 125</td>\n",
       "      <td>2016.0</td>\n",
       "      <td>11399</td>\n",
       "      <td>Automatic</td>\n",
       "      <td>37877</td>\n",
       "      <td>Skuter</td>\n",
       "      <td>30.0</td>\n",
       "      <td>61.7</td>\n",
       "      <td>125.0</td>\n",
       "    </tr>\n",
       "    <tr>\n",
       "      <th>3</th>\n",
       "      <td>Revo</td>\n",
       "      <td>2016.0</td>\n",
       "      <td>6499</td>\n",
       "      <td>Manual</td>\n",
       "      <td>23789</td>\n",
       "      <td>Bebek</td>\n",
       "      <td>20.0</td>\n",
       "      <td>60.1</td>\n",
       "      <td>110.0</td>\n",
       "    </tr>\n",
       "    <tr>\n",
       "      <th>4</th>\n",
       "      <td>PCX</td>\n",
       "      <td>2015.0</td>\n",
       "      <td>10199</td>\n",
       "      <td>Automatic</td>\n",
       "      <td>33177</td>\n",
       "      <td>Skuter</td>\n",
       "      <td>160.0</td>\n",
       "      <td>51.4</td>\n",
       "      <td>150.0</td>\n",
       "    </tr>\n",
       "    <tr>\n",
       "      <th>...</th>\n",
       "      <td>...</td>\n",
       "      <td>...</td>\n",
       "      <td>...</td>\n",
       "      <td>...</td>\n",
       "      <td>...</td>\n",
       "      <td>...</td>\n",
       "      <td>...</td>\n",
       "      <td>...</td>\n",
       "      <td>...</td>\n",
       "    </tr>\n",
       "    <tr>\n",
       "      <th>198</th>\n",
       "      <td>Verza</td>\n",
       "      <td>2019.0</td>\n",
       "      <td>14998</td>\n",
       "      <td>Kopling</td>\n",
       "      <td>6717</td>\n",
       "      <td>Sport</td>\n",
       "      <td>150.0</td>\n",
       "      <td>44.1</td>\n",
       "      <td>150.0</td>\n",
       "    </tr>\n",
       "    <tr>\n",
       "      <th>199</th>\n",
       "      <td>Vario 125</td>\n",
       "      <td>NaN</td>\n",
       "      <td>51</td>\n",
       "      <td>NaN</td>\n",
       "      <td>33</td>\n",
       "      <td>NaN</td>\n",
       "      <td>2.0</td>\n",
       "      <td>NaN</td>\n",
       "      <td>NaN</td>\n",
       "    </tr>\n",
       "    <tr>\n",
       "      <th>200</th>\n",
       "      <td>Revo</td>\n",
       "      <td>NaN</td>\n",
       "      <td>155</td>\n",
       "      <td>NaN</td>\n",
       "      <td>320</td>\n",
       "      <td>NaN</td>\n",
       "      <td>5.0</td>\n",
       "      <td>NaN</td>\n",
       "      <td>NaN</td>\n",
       "    </tr>\n",
       "    <tr>\n",
       "      <th>201</th>\n",
       "      <td>PCX</td>\n",
       "      <td>NaN</td>\n",
       "      <td>45</td>\n",
       "      <td>NaN</td>\n",
       "      <td>30</td>\n",
       "      <td>NaN</td>\n",
       "      <td>2.0</td>\n",
       "      <td>NaN</td>\n",
       "      <td>NaN</td>\n",
       "    </tr>\n",
       "    <tr>\n",
       "      <th>202</th>\n",
       "      <td>Genio</td>\n",
       "      <td>NaN</td>\n",
       "      <td>160</td>\n",
       "      <td>NaN</td>\n",
       "      <td>355</td>\n",
       "      <td>NaN</td>\n",
       "      <td>5.0</td>\n",
       "      <td>NaN</td>\n",
       "      <td>NaN</td>\n",
       "    </tr>\n",
       "  </tbody>\n",
       "</table>\n",
       "<p>203 rows × 9 columns</p>\n",
       "</div>"
      ],
      "text/plain": [
       "            model   tahun  harga  transmisi  odometer   jenis  pajak  \\\n",
       "0     Supra X 125  2017.0   7999     Manual     17307   Bebek  145.0   \n",
       "1       Vario 125  2016.0  14499  Automatic     25233  Skuter  235.0   \n",
       "2       Vario 125  2016.0  11399  Automatic     37877  Skuter   30.0   \n",
       "3            Revo  2016.0   6499     Manual     23789   Bebek   20.0   \n",
       "4             PCX  2015.0  10199  Automatic     33177  Skuter  160.0   \n",
       "..            ...     ...    ...        ...       ...     ...    ...   \n",
       "198         Verza  2019.0  14998    Kopling      6717   Sport  150.0   \n",
       "199     Vario 125     NaN     51        NaN        33     NaN    2.0   \n",
       "200          Revo     NaN    155        NaN       320     NaN    5.0   \n",
       "201           PCX     NaN     45        NaN        30     NaN    2.0   \n",
       "202         Genio     NaN    160        NaN       355     NaN    5.0   \n",
       "\n",
       "     konsumsiBBM  mesin  \n",
       "0           58.9  125.0  \n",
       "1           43.5  125.0  \n",
       "2           61.7  125.0  \n",
       "3           60.1  110.0  \n",
       "4           51.4  150.0  \n",
       "..           ...    ...  \n",
       "198         44.1  150.0  \n",
       "199          NaN    NaN  \n",
       "200          NaN    NaN  \n",
       "201          NaN    NaN  \n",
       "202          NaN    NaN  \n",
       "\n",
       "[203 rows x 9 columns]"
      ]
     },
     "execution_count": 18,
     "metadata": {},
     "output_type": "execute_result"
    }
   ],
   "source": [
    "outlier_data = {\n",
    "    'model': [\"Vario 125\", \"Revo\", \"PCX\", \"Genio\"],  \n",
    "    'harga': [51, 155, 45, 160],\n",
    "    'odometer': [33, 320, 30, 355],\n",
    "    'pajak': [2, 5, 2, 5]\n",
    "}\n",
    "\n",
    "outlier_df = pd.DataFrame(outlier_data)\n",
    "\n",
    "df = pd.concat([df, outlier_df], ignore_index=True)\n",
    "df"
   ]
  },
  {
   "cell_type": "code",
   "execution_count": 20,
   "id": "33ac2810-c818-4536-adbe-84aa92a096dc",
   "metadata": {},
   "outputs": [
    {
     "data": {
      "image/png": "[encoded data removed]",
      "text/plain": [
       "<Figure size 640x480 with 1 Axes>"
      ]
     },
     "metadata": {},
     "output_type": "display_data"
    }
   ],
   "source": [
    "import matplotlib.pyplot as plt\n",
    "\n",
    "# Membuat boxplot untuk kolom Harga dan Odometer\n",
    "df.boxplot(column=['harga','odometer'])\n",
    "plt.title('Boxplot of harga and odometer with Outlier')\n",
    "plt.show()"
   ]
  },
  {
   "cell_type": "code",
   "execution_count": 23,
   "id": "2367a99d-1cba-4539-a0c0-4205f8af4681",
   "metadata": {},
   "outputs": [
    {
     "name": "stdout",
     "output_type": "stream",
     "text": [
      "Q1 :  12156.5\n",
      "Q3 :  31916.5\n",
      "IQR :  19760.0\n",
      "outlier odometer:\n",
      "   model   tahun  harga  transmisi  odometer   jenis  pajak  konsumsiBBM  \\\n",
      "94   PCX  2011.0   6936  Automatic     72436  Skuter  200.0         47.9   \n",
      "96   PCX  2012.0   5000  Automatic    119050  Skuter  150.0         48.7   \n",
      "\n",
      "    mesin  \n",
      "94  150.0  \n",
      "96  150.0  \n"
     ]
    }
   ],
   "source": [
    "# Hitung kuartil pertama (Q1) untuk kolom Odometer\n",
    "q1 = df['odometer'].quantile(0.25)\n",
    "print(\"Q1 : \", q1)\n",
    "\n",
    "# Hitung kuartil ketiga (Q3)\n",
    "q3 = df['odometer'].quantile(0.75)\n",
    "print(\"Q3 : \", q3)\n",
    "\n",
    "# Hitung Interquartile Range (IQR)\n",
    "iqr = q3 - q1\n",
    "print(\"IQR : \", iqr)\n",
    "\n",
    "# Hitung batas bawah (Lower Bound) dan batas atas (Upper Bound) untuk outlier\n",
    "lower_bound = q1 - 1.5 * iqr\n",
    "upper_bound = q3 + 1.5 * iqr\n",
    "\n",
    "# Temukan outlier dalam DataFrame\n",
    "outliers = df[(df['odometer'] < lower_bound) | (df['odometer'] > upper_bound)]\n",
    "\n",
    "print(\"outlier odometer:\")\n",
    "print(outliers)"
   ]
  },
  {
   "cell_type": "code",
   "execution_count": 31,
   "id": "48d6bc19-e50a-4137-b613-fb9ceb782463",
   "metadata": {},
   "outputs": [
    {
     "data": {
      "image/png": "[encoded data removed]",
      "text/plain": [
       "<Figure size 640x480 with 1 Axes>"
      ]
     },
     "metadata": {},
     "output_type": "display_data"
    }
   ],
   "source": [
    "# Ambil data dari kolom Odometer\n",
    "data_odometer = df[\"odometer\"]\n",
    "\n",
    "# Buat histogram\n",
    "n, bins, patches = plt.hist(data_odometer, bins=5, color='red', edgecolor='yellow')\n",
    "\n",
    "# Tambahkan Label\n",
    "plt.title('Histogram Nilai odometer')\n",
    "plt.xlabel('odometer')\n",
    "plt.ylabel('Frekuensi')\n",
    "\n",
    "# Tampilkan rentang frekuensi di sumbu x\n",
    "bin_centers = 0.5 * (bins[:-1] + bins[1:])\n",
    "plt.xticks(bin_centers, ['{:.0f}-{:.0f}'.format(bins[i], bins[i+1]) for i in range(len(bins)-1)])\n",
    "\n",
    "# Tampilkan histogram\n",
    "plt.show()"
   ]
  },
  {
   "cell_type": "code",
   "execution_count": 33,
   "id": "3dc8e320-4507-400f-aff5-1239a1cc2d68",
   "metadata": {},
   "outputs": [
    {
     "name": "stdout",
     "output_type": "stream",
     "text": [
      "         model  tahun  harga transmisi  odometer jenis  pajak  konsumsiBBM  \\\n",
      "199  Vario 125    NaN     51       NaN        33   NaN    2.0          NaN   \n",
      "200       Revo    NaN    155       NaN       320   NaN    5.0          NaN   \n",
      "201        PCX    NaN     45       NaN        30   NaN    2.0          NaN   \n",
      "202      Genio    NaN    160       NaN       355   NaN    5.0          NaN   \n",
      "\n",
      "     mesin  \n",
      "199    NaN  \n",
      "200    NaN  \n",
      "201    NaN  \n",
      "202    NaN  \n"
     ]
    }
   ],
   "source": [
    "# Mengidentifikasi baris outlier berdasarkan ciri-ciri yang unik\n",
    "outliers_condition = (\n",
    "    (df['odometer'] > upper_bound) | (df['odometer'] < lower_bound) |\n",
    "    (df['harga'] < 30) | (df['harga'] > 200)\n",
    ")\n",
    "# Drop baris yang memenuhi kondisi di atas (outliers)\n",
    "df_cleaned = df[~outliers_condition]  # Tanda ~ untuk negasi (tidak termasuk kondisi outlier)\n",
    "\n",
    "# Menampilkan data setelah penghapusan outliers\n",
    "print(df_cleaned.tail())"
   ]
  },
  {
   "cell_type": "code",
   "execution_count": 2,
   "id": "ce1ba481-b4d3-40a1-bb28-acdb3294a1e5",
   "metadata": {},
   "outputs": [
    {
     "ename": "SyntaxError",
     "evalue": "cannot assign to literal (970565925.py, line 6)",
     "output_type": "error",
     "traceback": [
      "\u001b[1;36m  Cell \u001b[1;32mIn[2], line 6\u001b[1;36m\u001b[0m\n\u001b[1;33m    df = ['model'] = pd.categorical(df['model']).codes\u001b[0m\n\u001b[1;37m          ^\u001b[0m\n\u001b[1;31mSyntaxError\u001b[0m\u001b[1;31m:\u001b[0m cannot assign to literal\n"
     ]
    }
   ],
   "source": [
    "\n",
    "# Buat DataFrame contoh\n",
    "data = {'model': [\"Vario 125\", \"Revo\", \"PCX\", \"Genio\"],  \n",
    "        'harga': [51, 155, 45, 160],}\n",
    "\n",
    "df = pd.DataFrame(data)\n",
    "df = ['model'] = pd.categorical(df['model']).codes\n",
    "\n",
    "plt.figure(figsize=(10,6))\n",
    "plt.scatter(df['model'], df['model'], color='red', marker='o')\n",
    "\n",
    "\n",
    "# Mengubah labels di sumbu y agar sesuai dengan nama model\n",
    "plt.yticks(['model'], df['model']\n",
    "           \n",
    "\n",
    "# Tambahkan Label\n",
    "plt.title('Scatter Plot model vs harga', fontsize=16, fontweight='bold')\n",
    "plt.xlabel('model', fontsize=12)\n",
    "plt.ylabel('harga', fontsize=12)\n",
    "plt.grid(True, linestyle='--', alpha=0.7)\n",
    "\n",
    "# Tampilkan plot\n",
    "plt.tight_layout()\n",
    "plt.show()\n"
   ]
  },
  {
   "cell_type": "code",
   "execution_count": 50,
   "id": "264836e3-7968-4c3a-8d4d-0075b9357973",
   "metadata": {},
   "outputs": [
    {
     "data": {
      "image/png": "[encoded data removed]",
      "text/plain": [
       "<Figure size 640x480 with 1 Axes>"
      ]
     },
     "metadata": {},
     "output_type": "display_data"
    }
   ],
   "source": [
    "import pandas as pd\n",
    "import matplotlib.pyplot as plt\n",
    "\n",
    "# Buat DataFrame contoh\n",
    "data = {'Nilail': [1, 2, 3, 4, 5, 6, 7, 8, 9, 10],\n",
    "        'Nilai2': [10, 9, 8, 7, 6, 5, 4, 3, 2, 1]}\n",
    "\n",
    "df = pd.DataFrame(data)\n",
    "\n",
    "# Buat scatter plot\n",
    "plt.scatter(df['Nilail'], df['Nilai2'], color='red', marker='x')\n",
    "\n",
    "# Tambahkan Label\n",
    "plt.title('Scatter Plot Korelasi Negatif')\n",
    "plt.xlabel('Nilai1')\n",
    "plt.ylabel('Nilai2')\n",
    "\n",
    "# Tampilkan plot\n",
    "plt.grid(True)\n",
    "plt.show()\n",
    "\n"
   ]
  },
  {
   "cell_type": "code",
   "execution_count": null,
   "id": "318c72ad-1b7f-4f3a-b399-768a22d0d2f5",
   "metadata": {},
   "outputs": [],
   "source": []
  }
 ],
 "metadata": {
  "kernelspec": {
   "display_name": "Python 3 (ipykernel)",
   "language": "python",
   "name": "python3"
  },
  "language_info": {
   "codemirror_mode": {
    "name": "ipython",
    "version": 3
   },
   "file_extension": ".py",
   "mimetype": "text/x-python",
   "name": "python",
   "nbconvert_exporter": "python",
   "pygments_lexer": "ipython3",
   "version": "3.12.6"
  }
 },
 "nbformat": 4,
 "nbformat_minor": 5
}
