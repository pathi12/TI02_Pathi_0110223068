{
 "cells": [
  {
   "cell_type": "code",
   "execution_count": 2,
   "id": "ce72230d-2c7d-4ed5-8e4b-9bf6231b0c28",
   "metadata": {},
   "outputs": [
    {
     "data": {
      "text/html": [
       "<div>\n",
       "<style scoped>\n",
       "    .dataframe tbody tr th:only-of-type {\n",
       "        vertical-align: middle;\n",
       "    }\n",
       "\n",
       "    .dataframe tbody tr th {\n",
       "        vertical-align: top;\n",
       "    }\n",
       "\n",
       "    .dataframe thead th {\n",
       "        text-align: right;\n",
       "    }\n",
       "</style>\n",
       "<table border=\"1\" class=\"dataframe\">\n",
       "  <thead>\n",
       "    <tr style=\"text-align: right;\">\n",
       "      <th></th>\n",
       "      <th>Gender</th>\n",
       "      <th>Height</th>\n",
       "      <th>Weight</th>\n",
       "      <th>Index</th>\n",
       "    </tr>\n",
       "  </thead>\n",
       "  <tbody>\n",
       "    <tr>\n",
       "      <th>0</th>\n",
       "      <td>Male</td>\n",
       "      <td>174</td>\n",
       "      <td>96</td>\n",
       "      <td>4</td>\n",
       "    </tr>\n",
       "    <tr>\n",
       "      <th>1</th>\n",
       "      <td>Male</td>\n",
       "      <td>189</td>\n",
       "      <td>87</td>\n",
       "      <td>2</td>\n",
       "    </tr>\n",
       "    <tr>\n",
       "      <th>2</th>\n",
       "      <td>Female</td>\n",
       "      <td>185</td>\n",
       "      <td>110</td>\n",
       "      <td>4</td>\n",
       "    </tr>\n",
       "    <tr>\n",
       "      <th>3</th>\n",
       "      <td>Female</td>\n",
       "      <td>195</td>\n",
       "      <td>104</td>\n",
       "      <td>3</td>\n",
       "    </tr>\n",
       "    <tr>\n",
       "      <th>4</th>\n",
       "      <td>Male</td>\n",
       "      <td>149</td>\n",
       "      <td>61</td>\n",
       "      <td>3</td>\n",
       "    </tr>\n",
       "    <tr>\n",
       "      <th>...</th>\n",
       "      <td>...</td>\n",
       "      <td>...</td>\n",
       "      <td>...</td>\n",
       "      <td>...</td>\n",
       "    </tr>\n",
       "    <tr>\n",
       "      <th>495</th>\n",
       "      <td>Female</td>\n",
       "      <td>150</td>\n",
       "      <td>153</td>\n",
       "      <td>5</td>\n",
       "    </tr>\n",
       "    <tr>\n",
       "      <th>496</th>\n",
       "      <td>Female</td>\n",
       "      <td>184</td>\n",
       "      <td>121</td>\n",
       "      <td>4</td>\n",
       "    </tr>\n",
       "    <tr>\n",
       "      <th>497</th>\n",
       "      <td>Female</td>\n",
       "      <td>141</td>\n",
       "      <td>136</td>\n",
       "      <td>5</td>\n",
       "    </tr>\n",
       "    <tr>\n",
       "      <th>498</th>\n",
       "      <td>Male</td>\n",
       "      <td>150</td>\n",
       "      <td>95</td>\n",
       "      <td>5</td>\n",
       "    </tr>\n",
       "    <tr>\n",
       "      <th>499</th>\n",
       "      <td>Male</td>\n",
       "      <td>173</td>\n",
       "      <td>131</td>\n",
       "      <td>5</td>\n",
       "    </tr>\n",
       "  </tbody>\n",
       "</table>\n",
       "<p>500 rows × 4 columns</p>\n",
       "</div>"
      ],
      "text/plain": [
       "     Gender  Height  Weight  Index\n",
       "0      Male     174      96      4\n",
       "1      Male     189      87      2\n",
       "2    Female     185     110      4\n",
       "3    Female     195     104      3\n",
       "4      Male     149      61      3\n",
       "..      ...     ...     ...    ...\n",
       "495  Female     150     153      5\n",
       "496  Female     184     121      4\n",
       "497  Female     141     136      5\n",
       "498    Male     150      95      5\n",
       "499    Male     173     131      5\n",
       "\n",
       "[500 rows x 4 columns]"
      ]
     },
     "execution_count": 2,
     "metadata": {},
     "output_type": "execute_result"
    }
   ],
   "source": [
    "import pandas as pd\n",
    "import numpy as np\n",
    "# Importing and Exporting Data\n",
    "df = pd.read_csv('500_Person_Gender_Height_Weight_Index (1).csv')\n",
    "df"
   ]
  },
  {
   "cell_type": "code",
   "execution_count": 3,
   "id": "b0925118-cd2d-4ae1-a0de-58ddb433bc9b",
   "metadata": {},
   "outputs": [
    {
     "data": {
      "text/plain": [
       "np.float64(169.944)"
      ]
     },
     "execution_count": 3,
     "metadata": {},
     "output_type": "execute_result"
    }
   ],
   "source": [
    "df['Height'].mean()"
   ]
  },
  {
   "cell_type": "code",
   "execution_count": 4,
   "id": "1b104e1f-3126-4b64-9290-d6578eb6b06e",
   "metadata": {},
   "outputs": [
    {
     "data": {
      "text/plain": [
       "np.float64(170.5)"
      ]
     },
     "execution_count": 4,
     "metadata": {},
     "output_type": "execute_result"
    }
   ],
   "source": [
    "df['Height'].median()"
   ]
  },
  {
   "cell_type": "code",
   "execution_count": 5,
   "id": "d5660748-9d9e-4497-aeee-8d9f94f1c5b2",
   "metadata": {},
   "outputs": [
    {
     "data": {
      "text/plain": [
       "0    188\n",
       "Name: Height, dtype: int64"
      ]
     },
     "execution_count": 5,
     "metadata": {},
     "output_type": "execute_result"
    }
   ],
   "source": [
    "df['Height'].mode()"
   ]
  },
  {
   "cell_type": "code",
   "execution_count": 7,
   "id": "8c92b46c-911d-47c9-8896-316438b816c6",
   "metadata": {},
   "outputs": [
    {
     "name": "stdout",
     "output_type": "stream",
     "text": [
      "Q1 :  156.0\n",
      "Q3 :  184.0\n",
      "IQR :  28.0\n"
     ]
    }
   ],
   "source": [
    "# Hitung kuartil pertama (Q1)\n",
    "q1 = df['Height'].quantile(0.25)\n",
    "print(\"Q1 : \" , q1)\n",
    "# Hitung kuartil ketiga (Q3)\n",
    "q3 = df['Height'].quantile(0.75)\n",
    "print(\"Q3 : \" , q3)\n",
    "iqr = q3 - q1\n",
    "print(\"IQR : \", iqr)"
   ]
  },
  {
   "cell_type": "code",
   "execution_count": 8,
   "id": "d295f5ea-bee6-4fd6-b537-6eef87c99988",
   "metadata": {},
   "outputs": [
    {
     "data": {
      "text/plain": [
       "<Axes: >"
      ]
     },
     "execution_count": 8,
     "metadata": {},
     "output_type": "execute_result"
    },
    {
     "data": {
      "image/png": "[encoded data removed]",
      "text/plain": [
       "<Figure size 640x480 with 1 Axes>"
      ]
     },
     "metadata": {},
     "output_type": "display_data"
    }
   ],
   "source": [
    "df.boxplot(column=['Height','Weight'])"
   ]
  },
  {
   "cell_type": "code",
   "execution_count": 9,
   "id": "60271dd9-70ff-466b-841d-2d4a326bbef6",
   "metadata": {},
   "outputs": [
    {
     "data": {
      "text/plain": [
       "<Axes: >"
      ]
     },
     "execution_count": 9,
     "metadata": {},
     "output_type": "execute_result"
    }
   ],
   "source": [
    "df.boxplot(column=['Height','Weight'])"
   ]
  },
  {
   "cell_type": "code",
   "execution_count": 11,
   "id": "ff9dba2d-a07a-4282-8c89-d8742324644b",
   "metadata": {},
   "outputs": [
    {
     "data": {
      "text/html": [
       "<div>\n",
       "<style scoped>\n",
       "    .dataframe tbody tr th:only-of-type {\n",
       "        vertical-align: middle;\n",
       "    }\n",
       "\n",
       "    .dataframe tbody tr th {\n",
       "        vertical-align: top;\n",
       "    }\n",
       "\n",
       "    .dataframe thead th {\n",
       "        text-align: right;\n",
       "    }\n",
       "</style>\n",
       "<table border=\"1\" class=\"dataframe\">\n",
       "  <thead>\n",
       "    <tr style=\"text-align: right;\">\n",
       "      <th></th>\n",
       "      <th>Gender</th>\n",
       "      <th>Height</th>\n",
       "      <th>Weight</th>\n",
       "      <th>Index</th>\n",
       "    </tr>\n",
       "  </thead>\n",
       "  <tbody>\n",
       "    <tr>\n",
       "      <th>0</th>\n",
       "      <td>Male</td>\n",
       "      <td>174</td>\n",
       "      <td>96</td>\n",
       "      <td>4</td>\n",
       "    </tr>\n",
       "    <tr>\n",
       "      <th>1</th>\n",
       "      <td>Male</td>\n",
       "      <td>189</td>\n",
       "      <td>87</td>\n",
       "      <td>2</td>\n",
       "    </tr>\n",
       "    <tr>\n",
       "      <th>2</th>\n",
       "      <td>Female</td>\n",
       "      <td>185</td>\n",
       "      <td>110</td>\n",
       "      <td>4</td>\n",
       "    </tr>\n",
       "    <tr>\n",
       "      <th>3</th>\n",
       "      <td>Female</td>\n",
       "      <td>195</td>\n",
       "      <td>104</td>\n",
       "      <td>3</td>\n",
       "    </tr>\n",
       "    <tr>\n",
       "      <th>4</th>\n",
       "      <td>Male</td>\n",
       "      <td>149</td>\n",
       "      <td>61</td>\n",
       "      <td>3</td>\n",
       "    </tr>\n",
       "    <tr>\n",
       "      <th>...</th>\n",
       "      <td>...</td>\n",
       "      <td>...</td>\n",
       "      <td>...</td>\n",
       "      <td>...</td>\n",
       "    </tr>\n",
       "    <tr>\n",
       "      <th>499</th>\n",
       "      <td>Male</td>\n",
       "      <td>173</td>\n",
       "      <td>131</td>\n",
       "      <td>5</td>\n",
       "    </tr>\n",
       "    <tr>\n",
       "      <th>500</th>\n",
       "      <td>Male</td>\n",
       "      <td>51</td>\n",
       "      <td>33</td>\n",
       "      <td>2</td>\n",
       "    </tr>\n",
       "    <tr>\n",
       "      <th>501</th>\n",
       "      <td>Female</td>\n",
       "      <td>155</td>\n",
       "      <td>320</td>\n",
       "      <td>5</td>\n",
       "    </tr>\n",
       "    <tr>\n",
       "      <th>502</th>\n",
       "      <td>Male</td>\n",
       "      <td>45</td>\n",
       "      <td>30</td>\n",
       "      <td>2</td>\n",
       "    </tr>\n",
       "    <tr>\n",
       "      <th>503</th>\n",
       "      <td>Female</td>\n",
       "      <td>160</td>\n",
       "      <td>355</td>\n",
       "      <td>5</td>\n",
       "    </tr>\n",
       "  </tbody>\n",
       "</table>\n",
       "<p>504 rows × 4 columns</p>\n",
       "</div>"
      ],
      "text/plain": [
       "     Gender  Height  Weight  Index\n",
       "0      Male     174      96      4\n",
       "1      Male     189      87      2\n",
       "2    Female     185     110      4\n",
       "3    Female     195     104      3\n",
       "4      Male     149      61      3\n",
       "..      ...     ...     ...    ...\n",
       "499    Male     173     131      5\n",
       "500    Male      51      33      2\n",
       "501  Female     155     320      5\n",
       "502    Male      45      30      2\n",
       "503  Female     160     355      5\n",
       "\n",
       "[504 rows x 4 columns]"
      ]
     },
     "execution_count": 11,
     "metadata": {},
     "output_type": "execute_result"
    }
   ],
   "source": [
    "outlier_data = {\n",
    "    'Gender': [\"Male\", \"Female\", \"Male\", \"Female\"],  \n",
    "    'Height': [51, 155, 45, 160],\n",
    "    'Weight': [33, 320, 30, 355],\n",
    "    'Index': [2, 5, 2, 5]\n",
    "}\n",
    "\n",
    "outlier_df = pd.DataFrame(outlier_data)\n",
    "\n",
    "df = pd.concat([df, outlier_df], ignore_index=True)\n",
    "df"
   ]
  },
  {
   "cell_type": "code",
   "execution_count": 12,
   "id": "9b1f90bd-e8f5-45c9-accd-7f2db1c5ab67",
   "metadata": {},
   "outputs": [
    {
     "data": {
      "image/png": "[encoded data removed]",
      "text/plain": [
       "<Figure size 640x480 with 1 Axes>"
      ]
     },
     "metadata": {},
     "output_type": "display_data"
    }
   ],
   "source": [
    "import matplotlib.pyplot as plt\n",
    "\n",
    "# Membuat boxplot untuk kolom Height dan Weight\n",
    "df.boxplot(column=['Height', 'Weight'])\n",
    "plt.title('Boxplot of Height and Weight with Outlier')\n",
    "plt.show()"
   ]
  },
  {
   "cell_type": "code",
   "execution_count": 18,
   "id": "f090ecca-9574-45fc-bd0c-adaf5fef8840",
   "metadata": {},
   "outputs": [
    {
     "name": "stdout",
     "output_type": "stream",
     "text": [
      "Q1 :  156.0\n",
      "Q3 :  184.0\n",
      "Outlier Height:\n",
      "    Gender  Height  Weight  Index\n",
      "500   Male      51      33      2\n",
      "502   Male      45      30      2\n"
     ]
    }
   ],
   "source": [
    "# Hitung kuartil pertama (Q1)\n",
    "q1 = df['Height'].quantile(0.25)\n",
    "print(\"Q1 : \" , q1)\n",
    "# Hitung kuartil ketiga (Q3)\n",
    "q3 = df['Height'].quantile(0.75)\n",
    "print(\"Q3 : \" , q3)\n",
    "iqr = q3 - q1\n",
    "# Hitung batas bawah (Lower Bound) dan batas atas (Upper Bound) untuk outlier\n",
    "lower_bound = q1 - 1.5 * iqr\n",
    "upper_bound = q3 + 1.5 * iqr\n",
    "\n",
    "# Temukan outlier dalam DataFrame\n",
    "outliers = df[(df['Height'] < lower_bound) | (df['Height'] > upper_bound)]\n",
    "\n",
    "\n",
    "print(\"Outlier Height:\")\n",
    "print(outliers)"
   ]
  },
  {
   "cell_type": "code",
   "execution_count": 19,
   "id": "c43f0b4b-27ee-4b99-85f1-57a1976551eb",
   "metadata": {},
   "outputs": [
    {
     "data": {
      "image/png": "[encoded data removed]",
      "text/plain": [
       "<Figure size 640x480 with 1 Axes>"
      ]
     },
     "metadata": {},
     "output_type": "display_data"
    }
   ],
   "source": [
    "data_height = df[\"Height\"]\n",
    "# Buat histogram\n",
    "n, bins, patches = plt.hist(data_height, bins=5, color='pink', edgecolor='black')\n",
    "\n",
    "# Tambahkan Label\n",
    "plt.title('Histogram Nilai')\n",
    "plt.xlabel('Height')\n",
    "plt.ylabel('Frekuensi')\n",
    "\n",
    "# Tampilkan rentang frekuensi di sumbu x\n",
    "bin_centers = 0.5 * (bins[:-1] + bins[1:])\n",
    "plt.xticks(bin_centers, ['{:.0f}-{:.0f} ' .format(bins[i], bins[i+1]) for i in range(len(bins)-1)])\n",
    "\n",
    "# Tampilkan histogram\n",
    "plt.show()"
   ]
  },
  {
   "cell_type": "code",
   "execution_count": 20,
   "id": "66213c6d-0fae-477f-88fb-9ac362290d80",
   "metadata": {},
   "outputs": [
    {
     "name": "stdout",
     "output_type": "stream",
     "text": [
      "     Gender  Height  Weight  Index\n",
      "495  Female     150     153      5\n",
      "496  Female     184     121      4\n",
      "497  Female     141     136      5\n",
      "498    Male     150      95      5\n",
      "499    Male     173     131      5\n"
     ]
    }
   ],
   "source": [
    "# Mengidentifikasi baris outlier berdasarkan ciri-ciri yang unik\n",
    "\n",
    "outliers_condition = ((df['Height'] > upper_bound) | (df['Height'] < lower_bound)) | (df['Weight'] < 30) | (df['Weight'] > 200)\n",
    "\n",
    "# Drop baris yang memenuhi kondisi di atas (outliers)\n",
    "df_cleaned = df[~outliers_condition]  # Tanda ~ untuk negasi (tidak termasuk kondisi outlier)\n",
    "\n",
    "# Menampilkan data setelah penghapusan outliers\n",
    "print(df_cleaned.tail())"
   ]
  },
  {
   "cell_type": "code",
   "execution_count": 21,
   "id": "e95498b4-ed67-459d-829f-b072e925e562",
   "metadata": {},
   "outputs": [
    {
     "data": {
      "image/png": "[encoded data removed]",
      "text/plain": [
       "<Figure size 640x480 with 1 Axes>"
      ]
     },
     "metadata": {},
     "output_type": "display_data"
    }
   ],
   "source": [
    "import pandas as pd\n",
    "import matplotlib.pyplot as plt\n",
    "\n",
    "# Buat DataFrame contoh\n",
    "data = {'Nilail': [1, 2, 3, 4, 5, 6, 7, 8, 9, 10],\n",
    "        'Nilai2': [2, 4, 6, 8, 10, 12, 14, 16, 18, 20]}\n",
    "\n",
    "df = pd.DataFrame(data)\n",
    "\n",
    "# Buat scatter plot\n",
    "plt.scatter(df['Nilail'], df['Nilai2'], color='blue', marker='o')\n",
    "\n",
    "# Tambahkan Label\n",
    "plt.title('Scatter Plot Korelasi Positif')\n",
    "plt.xlabel('Nilai1')\n",
    "plt.ylabel('Nilai2')\n",
    "\n",
    "# Tampilkan plot\n",
    "plt.grid(True)\n",
    "plt.show()"
   ]
  },
  {
   "cell_type": "code",
   "execution_count": 22,
   "id": "56f8288a-44c4-472a-bc19-1bfe21ad540e",
   "metadata": {},
   "outputs": [
    {
     "data": {
      "image/png": "[encoded data removed]",
      "text/plain": [
       "<Figure size 640x480 with 1 Axes>"
      ]
     },
     "metadata": {},
     "output_type": "display_data"
    }
   ],
   "source": [
    "import pandas as pd\n",
    "import matplotlib.pyplot as plt\n",
    "\n",
    "# Buat DataFrame contoh\n",
    "data = {'Nilail': [1, 2, 3, 4, 5, 6, 7, 8, 9, 10],\n",
    "        'Nilai2': [10, 9, 8, 7, 6, 5, 4, 3, 2, 1]}\n",
    "\n",
    "df = pd.DataFrame(data)\n",
    "\n",
    "# Buat scatter plot\n",
    "plt.scatter(df['Nilail'], df['Nilai2'], color='red', marker='x')\n",
    "\n",
    "# Tambahkan Label\n",
    "plt.title('Scatter Plot Korelasi Negatif')\n",
    "plt.xlabel('Nilai1')\n",
    "plt.ylabel('Nilai2')\n",
    "\n",
    "# Tampilkan plot\n",
    "plt.grid(True)\n",
    "plt.show()"
   ]
  },
  {
   "cell_type": "code",
   "execution_count": null,
   "id": "c4bf6798-4340-4268-a9bf-2a87cf057978",
   "metadata": {},
   "outputs": [],
   "source": []
  }
 ],
 "metadata": {
  "kernelspec": {
   "display_name": "Python 3 (ipykernel)",
   "language": "python",
   "name": "python3"
  },
  "language_info": {
   "codemirror_mode": {
    "name": "ipython",
    "version": 3
   },
   "file_extension": ".py",
   "mimetype": "text/x-python",
   "name": "python",
   "nbconvert_exporter": "python",
   "pygments_lexer": "ipython3",
   "version": "3.12.6"
  }
 },
 "nbformat": 4,
 "nbformat_minor": 5
}
