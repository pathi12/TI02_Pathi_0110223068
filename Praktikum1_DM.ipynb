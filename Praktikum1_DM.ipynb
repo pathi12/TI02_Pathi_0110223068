{
  "nbformat": 4,
  "nbformat_minor": 0,
  "metadata": {
    "colab": {
      "provenance": []
    },
    "kernelspec": {
      "name": "python3",
      "display_name": "Python 3"
    },
    "language_info": {
      "name": "python"
    }
  },
  "cells": [
    {
      "cell_type": "code",
      "execution_count": 1,
      "metadata": {
        "colab": {
          "base_uri": "https://localhost:8080/"
        },
        "id": "YrLyTvhBFf8r",
        "outputId": "5b785932-ee22-4c89-c304-d0755e1a2f8b"
      },
      "outputs": [
        {
          "output_type": "stream",
          "name": "stdout",
          "text": [
            "Object Creation:\n",
            "Series:\n",
            "0    1.0\n",
            "1    3.0\n",
            "2    5.0\n",
            "3    NaN\n",
            "4    6.0\n",
            "5    8.0\n",
            "dtype: float64\n",
            "\n",
            "DataFrame:\n",
            "                   A         B         C         D\n",
            "2023-10-01  0.233118  0.811283  0.470744  0.003103\n",
            "2023-10-02  0.857526  0.282596  0.340435 -0.281489\n",
            "2023-10-03 -0.570303 -0.396710 -0.103793 -0.480866\n",
            "2023-10-04  1.355633  1.635024  0.912477 -0.697951\n",
            "2023-10-05  0.167812  0.034575 -0.108128  0.325568\n",
            "2023-10-06  2.001560 -1.192097 -0.006504 -0.669414\n",
            "==================================================\n"
          ]
        }
      ],
      "source": [
        "import pandas as pd\n",
        "import numpy as np\n",
        "\n",
        "#object Creation\n",
        "s = pd.Series([1, 3, 5, np.nan, 6, 8])\n",
        "dates = pd.date_range('2023-10-01', periods=6)\n",
        "df = pd.DataFrame(np.random.randn(6, 4), index=dates, columns=list('ABCD'))\n",
        "\n",
        "print(\"Object Creation:\")\n",
        "print(\"Series:\")\n",
        "print(s)\n",
        "print(\"\\nDataFrame:\")\n",
        "print(df)\n",
        "print(\"=\"*50)"
      ]
    },
    {
      "cell_type": "code",
      "source": [
        "# Viewing data\n",
        "print(\"Viewing Data:\")\n",
        "print(\"first 3 rows:\")\n",
        "print(df.head(3))\n",
        "print(\"\\nLast 2 rows:\")\n",
        "print(df.tail(2))\n",
        "print(\"\\nIndex and Columns:\")\n",
        "print(df.index)\n",
        "print(df.columns)\n",
        "print(\"=\"*40)"
      ],
      "metadata": {
        "colab": {
          "base_uri": "https://localhost:8080/"
        },
        "id": "HTtfC7O2F14R",
        "outputId": "989dde0b-bee3-44e2-d5b6-f37a147200f4"
      },
      "execution_count": 2,
      "outputs": [
        {
          "output_type": "stream",
          "name": "stdout",
          "text": [
            "Viewing Data:\n",
            "first 3 rows:\n",
            "                   A         B         C         D\n",
            "2023-10-01  0.233118  0.811283  0.470744  0.003103\n",
            "2023-10-02  0.857526  0.282596  0.340435 -0.281489\n",
            "2023-10-03 -0.570303 -0.396710 -0.103793 -0.480866\n",
            "\n",
            "Last 2 rows:\n",
            "                   A         B         C         D\n",
            "2023-10-05  0.167812  0.034575 -0.108128  0.325568\n",
            "2023-10-06  2.001560 -1.192097 -0.006504 -0.669414\n",
            "\n",
            "Index and Columns:\n",
            "DatetimeIndex(['2023-10-01', '2023-10-02', '2023-10-03', '2023-10-04',\n",
            "               '2023-10-05', '2023-10-06'],\n",
            "              dtype='datetime64[ns]', freq='D')\n",
            "Index(['A', 'B', 'C', 'D'], dtype='object')\n",
            "========================================\n"
          ]
        }
      ]
    },
    {
      "cell_type": "code",
      "source": [
        "# Selection\n",
        "print(\"Selection:\")\n",
        "print(\"Selecting a colum (A):\")\n",
        "print(df['A'])\n",
        "print(\"\\nSelecting by label (row 1):\")\n",
        "print(df.loc[dates[0]])\n",
        "print(\"\\nSelecting by position (row 1):\")\n",
        "print(df.iloc[1])\n",
        "print(\"\\nSelecting a subset of rows and columns:\")\n",
        "print(df.loc[dates[1:3], ['A', 'B']])\n",
        "print(\"=\"*40)"
      ],
      "metadata": {
        "colab": {
          "base_uri": "https://localhost:8080/"
        },
        "id": "YemqiWhTF7sx",
        "outputId": "ab443576-0ace-4279-bae7-507f1cb7706e"
      },
      "execution_count": 5,
      "outputs": [
        {
          "output_type": "stream",
          "name": "stdout",
          "text": [
            "Selection:\n",
            "Selecting a colum (A):\n",
            "2023-10-01    0.233118\n",
            "2023-10-02    0.857526\n",
            "2023-10-03   -0.570303\n",
            "2023-10-04    1.355633\n",
            "2023-10-05    0.167812\n",
            "2023-10-06    2.001560\n",
            "Freq: D, Name: A, dtype: float64\n",
            "\n",
            "Selecting by label (row 1):\n",
            "A    0.233118\n",
            "B    0.811283\n",
            "C    0.470744\n",
            "D    0.003103\n",
            "Name: 2023-10-01 00:00:00, dtype: float64\n",
            "\n",
            "Selecting by position (row 1):\n",
            "A    0.857526\n",
            "B    0.282596\n",
            "C    0.340435\n",
            "D   -0.281489\n",
            "Name: 2023-10-02 00:00:00, dtype: float64\n",
            "\n",
            "Selecting a subset of rows and columns:\n",
            "                   A         B\n",
            "2023-10-02  0.857526  0.282596\n",
            "2023-10-03 -0.570303 -0.396710\n",
            "========================================\n"
          ]
        }
      ]
    },
    {
      "cell_type": "code",
      "source": [
        "# Missing Data\n",
        "df1 = df.reindex(index=dates[0:4], columns=list(df.columns) + ['E'])\n",
        "df1.loc[dates[0]:dates[1], 'E'] = 1\n",
        "\n",
        "print(\"Missing Data:\")\n",
        "print(\"dataFrame with missing values:\")\n",
        "print(df1)\n",
        "print(\"\\nDropping rows with missing values:\")\n",
        "print(df1.dropna())\n",
        "print(\"\\nFilling missing values:\")\n",
        "print(df1.fillna(value=0))\n",
        "print(\"=\"*60)"
      ],
      "metadata": {
        "colab": {
          "base_uri": "https://localhost:8080/"
        },
        "id": "BNH0i-A1Hf4q",
        "outputId": "6779d5e2-3d75-4f42-a312-42e3a8676b6b"
      },
      "execution_count": 8,
      "outputs": [
        {
          "output_type": "stream",
          "name": "stdout",
          "text": [
            "Missing Data:\n",
            "dataFrame with missing values:\n",
            "                   A         B         C         D    E\n",
            "2023-10-01  0.233118  0.811283  0.470744  0.003103  1.0\n",
            "2023-10-02  0.857526  0.282596  0.340435 -0.281489  1.0\n",
            "2023-10-03 -0.570303 -0.396710 -0.103793 -0.480866  NaN\n",
            "2023-10-04  1.355633  1.635024  0.912477 -0.697951  NaN\n",
            "\n",
            "Dropping rows with missing values:\n",
            "                   A         B         C         D    E\n",
            "2023-10-01  0.233118  0.811283  0.470744  0.003103  1.0\n",
            "2023-10-02  0.857526  0.282596  0.340435 -0.281489  1.0\n",
            "\n",
            "Filling missing values:\n",
            "                   A         B         C         D    E\n",
            "2023-10-01  0.233118  0.811283  0.470744  0.003103  1.0\n",
            "2023-10-02  0.857526  0.282596  0.340435 -0.281489  1.0\n",
            "2023-10-03 -0.570303 -0.396710 -0.103793 -0.480866  0.0\n",
            "2023-10-04  1.355633  1.635024  0.912477 -0.697951  0.0\n",
            "============================================================\n"
          ]
        }
      ]
    },
    {
      "cell_type": "code",
      "source": [
        "# Operations\n",
        "print(\"Operations:\")\n",
        "print(\"Mean of each column:\")\n",
        "print(df.mean())\n",
        "print(\"\\nSum of each row:\")\n",
        "print(df.sum(axis=1))\n",
        "print(\"=\" *40)"
      ],
      "metadata": {
        "colab": {
          "base_uri": "https://localhost:8080/"
        },
        "id": "DMafehfzJPKm",
        "outputId": "d1537ad4-6656-47cf-8e9d-5fac3fee1112"
      },
      "execution_count": 9,
      "outputs": [
        {
          "output_type": "stream",
          "name": "stdout",
          "text": [
            "Operations:\n",
            "Mean of each column:\n",
            "A    0.674224\n",
            "B    0.195778\n",
            "C    0.250872\n",
            "D   -0.300175\n",
            "dtype: float64\n",
            "\n",
            "Sum of each row:\n",
            "2023-10-01    1.518247\n",
            "2023-10-02    1.199068\n",
            "2023-10-03   -1.551672\n",
            "2023-10-04    3.205183\n",
            "2023-10-05    0.419827\n",
            "2023-10-06    0.133545\n",
            "Freq: D, dtype: float64\n",
            "========================================\n"
          ]
        }
      ]
    },
    {
      "cell_type": "code",
      "source": [
        "# Merge\n",
        "left = pd.DataFrame({'key': ['K0', 'K1', 'K2', 'K3'], 'A': ['A0', 'A1', 'A2', 'A3'], 'B' : ['B0', 'B1', 'B2', 'B3']})\n",
        "rigth = pd.DataFrame({'key': ['K0', 'K1', 'K2', 'K3'], 'C': ['C0', 'C1', 'C2', 'C3'], 'D':['D0', 'D1', 'D2', 'D3']})\n",
        "\n",
        "merged_df = pd.merge(left, rigth, on='key')\n",
        "\n",
        "print(\"Merge:\")\n",
        "print(\"Merged DataFrame:\")\n",
        "print(merged_df)\n",
        "print(\"=\"*40)"
      ],
      "metadata": {
        "colab": {
          "base_uri": "https://localhost:8080/"
        },
        "id": "lrgyi8DGJz3h",
        "outputId": "86e04db5-1199-46f1-dd3e-3cc5af3d047b"
      },
      "execution_count": 10,
      "outputs": [
        {
          "output_type": "stream",
          "name": "stdout",
          "text": [
            "Merge:\n",
            "Merged DataFrame:\n",
            "  key   A   B   C   D\n",
            "0  K0  A0  B0  C0  D0\n",
            "1  K1  A1  B1  C1  D1\n",
            "2  K2  A2  B2  C2  D2\n",
            "3  K3  A3  B3  C3  D3\n",
            "========================================\n"
          ]
        }
      ]
    },
    {
      "cell_type": "code",
      "source": [
        "# Grouping\n",
        "grouped = df.groupby('A').sum()\n",
        "print(\"Grouping:\")\n",
        "print(\"Grouped DataFrame:\")\n",
        "print(grouped)\n",
        "print(\"=\"*40)"
      ],
      "metadata": {
        "colab": {
          "base_uri": "https://localhost:8080/"
        },
        "id": "hWuJPFxQMMFv",
        "outputId": "fcc39e5e-8f41-4ca3-c8ab-87e89f1b9608"
      },
      "execution_count": 11,
      "outputs": [
        {
          "output_type": "stream",
          "name": "stdout",
          "text": [
            "Grouping:\n",
            "Grouped DataFrame:\n",
            "                  B         C         D\n",
            "A                                      \n",
            "-0.570303 -0.396710 -0.103793 -0.480866\n",
            " 0.167812  0.034575 -0.108128  0.325568\n",
            " 0.233118  0.811283  0.470744  0.003103\n",
            " 0.857526  0.282596  0.340435 -0.281489\n",
            " 1.355633  1.635024  0.912477 -0.697951\n",
            " 2.001560 -1.192097 -0.006504 -0.669414\n",
            "========================================\n"
          ]
        }
      ]
    },
    {
      "cell_type": "code",
      "source": [
        "# Reshaping\n",
        "stacked = df.stack()\n",
        "unstacked = stacked.unstack()\n",
        "\n",
        "print(\"Reshaping:\")\n",
        "print(\"Stacked DataFrame:\")\n",
        "print(stacked)\n",
        "print(\"\\nUnstacked Dataframe:\")\n",
        "print(unstacked)\n",
        "print(\"=\"*40)"
      ],
      "metadata": {
        "colab": {
          "base_uri": "https://localhost:8080/"
        },
        "id": "dRk4VzAWNBpy",
        "outputId": "ecb78ead-bb6e-4ae9-fe81-ebe97d0e4987"
      },
      "execution_count": 12,
      "outputs": [
        {
          "output_type": "stream",
          "name": "stdout",
          "text": [
            "Reshaping:\n",
            "Stacked DataFrame:\n",
            "2023-10-01  A    0.233118\n",
            "            B    0.811283\n",
            "            C    0.470744\n",
            "            D    0.003103\n",
            "2023-10-02  A    0.857526\n",
            "            B    0.282596\n",
            "            C    0.340435\n",
            "            D   -0.281489\n",
            "2023-10-03  A   -0.570303\n",
            "            B   -0.396710\n",
            "            C   -0.103793\n",
            "            D   -0.480866\n",
            "2023-10-04  A    1.355633\n",
            "            B    1.635024\n",
            "            C    0.912477\n",
            "            D   -0.697951\n",
            "2023-10-05  A    0.167812\n",
            "            B    0.034575\n",
            "            C   -0.108128\n",
            "            D    0.325568\n",
            "2023-10-06  A    2.001560\n",
            "            B   -1.192097\n",
            "            C   -0.006504\n",
            "            D   -0.669414\n",
            "dtype: float64\n",
            "\n",
            "Unstacked Dataframe:\n",
            "                   A         B         C         D\n",
            "2023-10-01  0.233118  0.811283  0.470744  0.003103\n",
            "2023-10-02  0.857526  0.282596  0.340435 -0.281489\n",
            "2023-10-03 -0.570303 -0.396710 -0.103793 -0.480866\n",
            "2023-10-04  1.355633  1.635024  0.912477 -0.697951\n",
            "2023-10-05  0.167812  0.034575 -0.108128  0.325568\n",
            "2023-10-06  2.001560 -1.192097 -0.006504 -0.669414\n",
            "========================================\n"
          ]
        }
      ]
    },
    {
      "cell_type": "code",
      "source": [
        "# Time Series\n",
        "ts = pd.Series(np.random.randn(1000), index=pd.date_range('2023-01-01', periods=1000))\n",
        "cumulative_sum = ts.cumsum()\n",
        "\n",
        "print(\"Time series:\")\n",
        "print(ts.head())\n",
        "print(\"\\ncumulative Sum:\")\n",
        "print(cumulative_sum.head())\n",
        "print(\"=\"*40)"
      ],
      "metadata": {
        "colab": {
          "base_uri": "https://localhost:8080/"
        },
        "id": "Oh_s0UfPN5t3",
        "outputId": "49629199-51a8-4244-d99d-6ba129f2e679"
      },
      "execution_count": 14,
      "outputs": [
        {
          "output_type": "stream",
          "name": "stdout",
          "text": [
            "Time series:\n",
            "2023-01-01    0.100210\n",
            "2023-01-02    0.432219\n",
            "2023-01-03   -1.066392\n",
            "2023-01-04   -0.370720\n",
            "2023-01-05    1.222932\n",
            "Freq: D, dtype: float64\n",
            "\n",
            "cumulative Sum:\n",
            "2023-01-01    0.100210\n",
            "2023-01-02    0.532429\n",
            "2023-01-03   -0.533963\n",
            "2023-01-04   -0.904683\n",
            "2023-01-05    0.318250\n",
            "Freq: D, dtype: float64\n",
            "========================================\n"
          ]
        }
      ]
    },
    {
      "cell_type": "code",
      "source": [
        "# Categoricals\n",
        "import pandas as pd\n",
        "\n",
        "# Create a categorical Series\n",
        "s = pd.Series([\"cat\", \"dog\", \"bird\", \"cat\", \"dog\"], dtype=\"category\")\n",
        "\n",
        "# Define new categories\n",
        "new_categories = [\"Category 1\", \"Category 2\", \"Category 3\"]\n",
        "\n",
        "# Create a new categorical Series with the new categoryes\n",
        "s_new = s.cat.set_categories(new_categories)\n",
        "\n",
        "print(\"Categoricals:\")\n",
        "print(\"Original Categorical Series:\")\n",
        "print(s)\n",
        "print(\"\\nNew Categorical Series with updated categories:\")\n",
        "print(s_new)"
      ],
      "metadata": {
        "colab": {
          "base_uri": "https://localhost:8080/"
        },
        "id": "im8-o5J2O_yY",
        "outputId": "4a25da1b-7b8a-4718-f1ae-4f3c397ac7b4"
      },
      "execution_count": 16,
      "outputs": [
        {
          "output_type": "stream",
          "name": "stdout",
          "text": [
            "Categoricals:\n",
            "Original Categorical Series:\n",
            "0     cat\n",
            "1     dog\n",
            "2    bird\n",
            "3     cat\n",
            "4     dog\n",
            "dtype: category\n",
            "Categories (3, object): ['bird', 'cat', 'dog']\n",
            "\n",
            "New Categorical Series with updated categories:\n",
            "0    NaN\n",
            "1    NaN\n",
            "2    NaN\n",
            "3    NaN\n",
            "4    NaN\n",
            "dtype: category\n",
            "Categories (3, object): ['Category 1', 'Category 2', 'Category 3']\n"
          ]
        }
      ]
    },
    {
      "cell_type": "code",
      "source": [
        "import matplotlib.pyplot as plt\n",
        "# Plotting\n",
        "df.plot()\n",
        "plt.show()\n",
        "\n",
        "print(\"Plotting:\")\n",
        "print(\"=\"*40)"
      ],
      "metadata": {
        "colab": {
          "base_uri": "https://localhost:8080/",
          "height": 498
        },
        "id": "HCkHX3xtPtlp",
        "outputId": "6f55d106-f9de-4900-edda-6b17ba9ba95b"
      },
      "execution_count": 17,
      "outputs": [
        {
          "output_type": "display_data",
          "data": {
            "text/plain": [
              "<Figure size 640x480 with 1 Axes>"
            ],
            "image/png": "[encoded data removed]"
          },
          "metadata": {}
        },
        {
          "output_type": "stream",
          "name": "stdout",
          "text": [
            "Plotting:\n",
            "========================================\n"
          ]
        }
      ]
    },
    {
      "cell_type": "code",
      "source": [
        "# Importing and exporting Data\n",
        "imported_df = pd.read_csv('/content/sample_data.xls')\n",
        "\n",
        "print(\"Importing and Exporting data:\")\n",
        "print(\"exported dataFrame to CSV:\")\n",
        "print(df)\n",
        "print(\"\\nImported DataFrame from CSV:\")\n",
        "print(imported_df)\n",
        "print(\"=\"*40)\n",
        "df.to_csv('sampel_data.csv')"
      ],
      "metadata": {
        "colab": {
          "base_uri": "https://localhost:8080/"
        },
        "id": "Wiza8ULbRD_C",
        "outputId": "cd65c142-13fa-4f38-f45e-be52a617f829"
      },
      "execution_count": 18,
      "outputs": [
        {
          "output_type": "stream",
          "name": "stdout",
          "text": [
            "Importing and Exporting data:\n",
            "exported dataFrame to CSV:\n",
            "                   A         B         C         D\n",
            "2023-10-01  0.233118  0.811283  0.470744  0.003103\n",
            "2023-10-02  0.857526  0.282596  0.340435 -0.281489\n",
            "2023-10-03 -0.570303 -0.396710 -0.103793 -0.480866\n",
            "2023-10-04  1.355633  1.635024  0.912477 -0.697951\n",
            "2023-10-05  0.167812  0.034575 -0.108128  0.325568\n",
            "2023-10-06  2.001560 -1.192097 -0.006504 -0.669414\n",
            "\n",
            "Imported DataFrame from CSV:\n",
            "    SUBJECT Stim1 Stim2  Response\n",
            "0         1     B     D         5\n",
            "1         1     A     B         1\n",
            "2         1     B     C         7\n",
            "3         2     A     C         3\n",
            "4         2     A     B         2\n",
            "5         2     B     C         6\n",
            "6         3     B     C         6\n",
            "7         3     C     D         5\n",
            "8         3     A     B         3\n",
            "9         4     B     D         2\n",
            "10        4     A     D         2\n",
            "11        4     B     C         5\n",
            "12        5     C     D         6\n",
            "13        5     A     D         1\n",
            "14        5     A     B         2\n",
            "15        6     A     B         2\n",
            "16        6     A     D         2\n",
            "17        6     B     D         3\n",
            "18        7     A     D         1\n",
            "19        7     B     D         5\n",
            "20        7     A     B         1\n",
            "21        8     C     D         5\n",
            "22        8     A     C         4\n",
            "23        8     A     B         3\n",
            "24        9     A     D         2\n",
            "25        9     A     B         1\n",
            "26        9     C     D         5\n",
            "27       10     A     C         5\n",
            "28       10     B     C         7\n",
            "29       10     A     B         2\n",
            "========================================\n"
          ]
        }
      ]
    }
  ]
}