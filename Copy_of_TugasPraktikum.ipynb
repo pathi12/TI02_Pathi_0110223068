{
  "nbformat": 4,
  "nbformat_minor": 0,
  "metadata": {
    "colab": {
      "provenance": []
    },
    "kernelspec": {
      "name": "python3",
      "display_name": "Python 3"
    },
    "language_info": {
      "name": "python"
    }
  },
  "cells": [
    {
      "cell_type": "code",
      "execution_count": null,
      "metadata": {
        "id": "iTb91Z2jHZJi",
        "colab": {
          "base_uri": "https://localhost:8080/"
        },
        "outputId": "c7f8f98b-6724-4b56-be2d-304fe84270e0"
      },
      "outputs": [
        {
          "output_type": "stream",
          "name": "stdout",
          "text": [
            "15 Baris Pertama Data:\n",
            "    Gender  Height  Weight  Index\n",
            "0        0     174      96      4\n",
            "1        0     189      87      2\n",
            "2        0     185     110      4\n",
            "3        0     195     104      3\n",
            "4        0     149      61      3\n",
            "5        0     189     104      3\n",
            "6        0     147      92      5\n",
            "7        0     154     111      5\n",
            "8        0     174      90      3\n",
            "9        0     169     103      4\n",
            "10       0     195      81      2\n",
            "11       0     159      80      4\n",
            "12       0     192     101      3\n",
            "13       0     155      51      2\n",
            "14       0     191      79      2\n"
          ]
        }
      ],
      "source": [
        "\n",
        "import pandas as pd\n",
        "import numpy as np\n",
        "\n",
        "# Mengonversi kolom 'Gender' ke biner\n",
        "data['Gender'] = data['Gender'].apply(lambda x: 1 if x == 'Male' else 0)\n",
        "\n",
        "#  Menampilkan 15 baris pertama untuk verifikasi\n",
        "print(\"15 Baris Pertama Data:\")\n",
        "print(data.head(15))\n"
      ]
    },
    {
      "cell_type": "code",
      "source": [
        "# Menghitung jumlah data tinggi badan berdasarkan gender\n",
        "height_count = data.groupby('Gender')['Height'].count()\n",
        "\n",
        "# Menampilkan Jumlah data Tinggi Badan\n",
        "print(\"\\nJumlah Data Tinggi Badan berdasarkan Gender:\")\n",
        "for gender, count in height_count.items():\n",
        "    gender_str = 'Laki-laki' if gender == 1 else 'Perempuan'\n",
        "    print(f\"{gender_str}: {count} orang\")"
      ],
      "metadata": {
        "colab": {
          "base_uri": "https://localhost:8080/"
        },
        "id": "A8UwnXo8VqmC",
        "outputId": "a31252d8-b2c5-40e6-acbf-706aef983c78"
      },
      "execution_count": null,
      "outputs": [
        {
          "output_type": "stream",
          "name": "stdout",
          "text": [
            "\n",
            "Jumlah Data Tinggi Badan berdasarkan Gender:\n",
            "Perempuan: 500 orang\n"
          ]
        }
      ]
    },
    {
      "cell_type": "code",
      "source": [
        "# Menghitung Rata rata\n",
        "weight_mean = data.groupby('Gender')['Weight'].mean()\n",
        "print(\"\\nRata-rata Berat Badan berdasarkan Gender:\")\n",
        "print(weight_mean)"
      ],
      "metadata": {
        "colab": {
          "base_uri": "https://localhost:8080/"
        },
        "id": "t_tm-dsHWpoc",
        "outputId": "29ff88d7-fccb-41bc-8006-4830ee9167c8"
      },
      "execution_count": null,
      "outputs": [
        {
          "output_type": "stream",
          "name": "stdout",
          "text": [
            "\n",
            "Rata-rata Berat Badan berdasarkan Gender:\n",
            "Gender\n",
            "0    105.698039\n",
            "1    106.314286\n",
            "Name: Weight, dtype: float64\n"
          ]
        }
      ]
    },
    {
      "cell_type": "code",
      "source": [
        "# Menghitung Nilai Maksimum\n",
        "weight_max = data.groupby('Gender')['Weight'].max()\n",
        "print(\"\\nNilai maksimum Berat Badan berdasarkan Gender:\")\n",
        "print(weight_max)"
      ],
      "metadata": {
        "colab": {
          "base_uri": "https://localhost:8080/"
        },
        "id": "DYyBtJdKXBiB",
        "outputId": "8a62db58-c3e7-4226-b4d8-f3a7ab2f3160"
      },
      "execution_count": null,
      "outputs": [
        {
          "output_type": "stream",
          "name": "stdout",
          "text": [
            "\n",
            "Nilai maksimum Berat Badan berdasarkan Gender:\n",
            "Gender\n",
            "0    160\n",
            "Name: Weight, dtype: int64\n"
          ]
        }
      ]
    },
    {
      "cell_type": "code",
      "source": [
        "# Menghitung Nilai minimum\n",
        "weight_min = data.groupby('Gender')['Weight'].min()\n",
        "print(\"\\nNilai minimum Berat Badan berdasarkan Gender:\")\n",
        "print(weight_min)\n"
      ],
      "metadata": {
        "colab": {
          "base_uri": "https://localhost:8080/"
        },
        "id": "JPJ9rACUXFSt",
        "outputId": "640efb23-5fc1-402d-b4a1-a2633464ef07"
      },
      "execution_count": null,
      "outputs": [
        {
          "output_type": "stream",
          "name": "stdout",
          "text": [
            "\n",
            "Nilai minimum Berat Badan berdasarkan Gender:\n",
            "Gender\n",
            "0    50\n",
            "1    50\n",
            "Name: Weight, dtype: int64\n"
          ]
        }
      ]
    },
    {
      "cell_type": "code",
      "source": [
        "# Menampilkan Grafik\n",
        "plt.figure(figsize=(8, 6))\n",
        "for gender, group in data.groupby('Gender'):\n",
        "    plt.hist(group['Index'], bins=10, alpha=0.5, label='Laki-laki' if gender == 1 else 'Perempuan')\n",
        "\n",
        "print('Distribusi Index BMI Berdasarkan Gender')\n",
        "print('Index BMI')\n",
        "print('Frekuensi')\n",
        "print()\n",
        "print(True)\n",
        "print()"
      ],
      "metadata": {
        "colab": {
          "base_uri": "https://localhost:8080/",
          "height": 631
        },
        "id": "jp4cuPVgXH1F",
        "outputId": "39fc63be-b72c-4841-82ea-dfcbe953ba85"
      },
      "execution_count": null,
      "outputs": [
        {
          "output_type": "stream",
          "name": "stdout",
          "text": [
            "Distribusi Index BMI Berdasarkan Gender\n",
            "Index BMI\n",
            "Frekuensi\n",
            "\n",
            "True\n",
            "\n"
          ]
        },
        {
          "output_type": "display_data",
          "data": {
            "text/plain": [
              "<Figure size 800x600 with 1 Axes>"
            ],
            "image/png": "[encoded data removed]"
          },
          "metadata": {}
        }
      ]
    }
  ]
}