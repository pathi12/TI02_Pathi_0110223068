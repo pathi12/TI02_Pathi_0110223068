{
  "nbformat": 4,
  "nbformat_minor": 0,
  "metadata": {
    "colab": {
      "provenance": []
    },
    "kernelspec": {
      "name": "python3",
      "display_name": "Python 3"
    },
    "language_info": {
      "name": "python"
    }
  },
  "cells": [
    {
      "cell_type": "code",
      "execution_count": 3,
      "metadata": {
        "colab": {
          "base_uri": "https://localhost:8080/"
        },
        "id": "23js5fiTQFVp",
        "outputId": "a3ed1e3d-c165-4a86-ab01-583da47189aa"
      },
      "outputs": [
        {
          "output_type": "stream",
          "name": "stdout",
          "text": [
            "Data Asli:\n",
            "[[2. 5.]\n",
            " [1. 4.]\n",
            " [3. 6.]]\n",
            "\n",
            "Data setelah Min-Max Scaling:\n",
            "[[0.5 0.5]\n",
            " [0.  0. ]\n",
            " [1.  1. ]]\n"
          ]
        }
      ],
      "source": [
        "import numpy as np\n",
        "from sklearn.preprocessing import MinMaxScaler\n",
        "\n",
        "# Data contoh (ganti dengan data Anda)\n",
        "data = np.array([[2.0, 5.0],\n",
        "                 [1.0, 4.0],\n",
        "                 [3.0, 6.0]])\n",
        "# Inisialisasi objek MinMaxScaler\n",
        "scaler = MinMaxScaler()\n",
        "\n",
        "# fit dan transformasi data menggunakan Min-Max Scaling\n",
        "scaled_data = scaler.fit_transform(data)\n",
        "\n",
        "print(\"Data Asli:\")\n",
        "print(data)\n",
        "\n",
        "print(\"\\nData setelah Min-Max Scaling:\")\n",
        "print(scaled_data)"
      ]
    },
    {
      "cell_type": "code",
      "source": [
        "import numpy as np\n",
        "\n",
        "# Data contoh (ganti dengan data anda)\n",
        "data = np.array([200, 300, 400, 500, 600])\n",
        "\n",
        "# Menentukan faktor penggeseran (scaling factor),\n",
        "# misalnya 1000 untuk mengubah ke rentang 0-1\n",
        "scaling_factor = 1000\n",
        "\n",
        "# Melakukan transformasi Decimal Scaling\n",
        "scaled_data = data / scaling_factor\n",
        "\n",
        "print(\"Data Asli:\")\n",
        "print(data)\n",
        "\n",
        "print(\"\\nDta setelah Decimal Scaling:\")\n",
        "print(scaled_data)"
      ],
      "metadata": {
        "colab": {
          "base_uri": "https://localhost:8080/"
        },
        "id": "6_GkoRzaSc-G",
        "outputId": "d0ed6572-daf2-4e84-9892-68d7eea50678"
      },
      "execution_count": 4,
      "outputs": [
        {
          "output_type": "stream",
          "name": "stdout",
          "text": [
            "Data Asli:\n",
            "[200 300 400 500 600]\n",
            "\n",
            "Dta setelah Decimal Scaling:\n",
            "[0.2 0.3 0.4 0.5 0.6]\n"
          ]
        }
      ]
    },
    {
      "cell_type": "code",
      "source": [],
      "metadata": {
        "id": "kNVXh9d-SdlQ"
      },
      "execution_count": 4,
      "outputs": []
    }
  ]
}